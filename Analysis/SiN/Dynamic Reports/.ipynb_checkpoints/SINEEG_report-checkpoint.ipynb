{
 "cells": [
  {
   "cell_type": "raw",
   "metadata": {},
   "source": [
    "---\n",
    "title: |-\n",
    "  Data Report: An EEG experiment on Speech-in-Noise Comprehension\n",
    "subtitle: Pilot EEG study on using a sentence matrix comprehension task with noise-vocoded speech and speech in speech-shaped noise\n",
    "date: last-modified\n",
    "author:\n",
    "  - name: Gorka Fraga-Gonzalez\n",
    "    orcid: 0000-0002-1857-8607\n",
    "    email: gorka.fragagonzalez@uzh.ch\n",
    "    affiliation:\n",
    "      - name: 'Neurolinguistics group, University of Zurich'      \n",
    "  - name: Samuel Mueller \n",
    "    email: samuel.mueller@psychologie.uzh.ch\n",
    "    affiliation:\n",
    "      - name: 'Neurolinguistics group, University of Zurich' \n",
    "  - name: Alexis Hervais-Adelman  \n",
    "    orcid: 0000-0002-5232-626X\n",
    "    email: alexis.hervais-adelman@psychologie.uzh.ch\n",
    "    affiliation:\n",
    "      - name: 'Neurolinguistics group, University of Zurich'\n",
    "      - name: 'Department of fundamental neurosciences, University of Geneva'\n",
    "\n",
    "bibliography: references.bib\n",
    "format:\n",
    "  html:  \n",
    "    toc: true\n",
    "    code-fold: true\n",
    "    code-link: true    \n",
    "    code-copy: true\n",
    "    code-tools: true\n",
    "---"
   ]
  },
  {
   "cell_type": "markdown",
   "metadata": {},
   "source": [
    "# Abstract\n",
    "Hearing loss is becoming an increasingly common complaint, not solely due to aging populations, but also as a result of increasing incidence of noise-induced hearing loss in younger individuals @niskar2001estimated and @shargorodsky2010change. One of the major consequences is reduced speech-comprehension ability, especially in acoustically challenging conditions such as in reverberant or noisy environments. Individual differences in (dis)satisfaction with both hearing aids and cochlear implants calls for more investigation on interventions that could enhance speech comprehension abilities by exploiting existing cognitive mechanisms. To this end, this project aims at gaining fundamental knowledge on the neurocognitive basis of speech comprehension in acoustically challenging situations.\n",
    "<p>Our experiment uses electroencephalography (EEG) to investigate patterns of electrophysiological activity associated with better speech in noise comprehension. This pilot study has data from 15 healthy adult participants performing a sentence comprehension task with noise-vocoded speech and speech in speech-shaped noise stimuili. We use a multivariate pattern analysis approach focused on using EEG information preceding stimuli to decode accuracy of performance.\n",
    "    \n",
    "This pilot study is aimed at specifying targets and experimental design for subsequent studies focused on potential neurofeedback interventions\n",
    "    \n",
    "# Methods \n",
    "## Participants and procedures\n",
    "\n",
    "We recruited 15 adult participants using a mailing list of the Faculty of Psychology (University of Zurich) and flyers. Inclusion criteria were: age 18-35 years, normmal hearing without hearing aids, normal vision (corrections allowed), German as first language, right-handed. Exclusion criteria were being fuent in more than two languages, having hearing aids or history of hearing impairments or having any psychological or psychiatric condition that may impede adequate task performance (e.g., attentional problems, speech comprehension issues). All participants signed an inform consent form before participation with included a 60 CHF reward for participation. The study was approved by the ethics commision of the canton of Zurich.\n",
    "    \n",
    "XX were excluded \n",
    "    \n",
    "Before selection for the experiment participants were screened via phone call or email on the main inclusion criteria for the study. Upon arrival to the lab participants first filled in a short questionnaire with a additional questions on language hearing and an relevant psychological or psychiatric condition that may impact task performance. The questionnaire was presented using the web application [Redcap](https://www.project-redcap.org/) to ensure that any personal data was saved in a secure environment. [[[***Enter what variables were masked and list of variables in the appendix ***]]]. After completion of the pilot the survey data was downloaded as a table with identifying variables like D.O.B masked. \n",
    "    \n",
    "After completing the questionnaires participants were informed about the specific content of the session which consisted of a 4 minutes resting state recording (opened eyes), the main task (with 4 blocks of approximately 15 minuntes duration each) and another 4 minutes resting state recording (eyes opened). Electrode placement and signal check took approximately between 20 and 40 minutes. Then the electrodes were placed, signal checked, and a few example trials were presented before starting the session with the first resting state recording.  \n",
    "\n",
    "## Resting-state recordings \n",
    "    Xxx \n",
    "## Task and Design\n",
    "We used a version of the Coordinate Response Measure (CRM) task used in brungart2001evaluation. In the task, participants hear different versions of a setence with a fixed structure and three words that change in every trial. There are 4 possible alternatives for each of the targets, thus there are 64 possible variations of the sentences. The task was originally designed to investigate intelligibility of speech commands (in a military context) in audio transmissions with various types of background competition. The sentence \"*Ready [call sign] go to [color][number] now*\" was translated into German to *Vorsicht [call sign], geh sofort zum [color] Feld von der Spalte [number]\". The possible call sign items were: Adler, Drossel, Tiger or Kröte (eagle,thrush, tiger or toad). The possible colors were gelben, gruenen, roten, weissen (yellow, green, red or white). The numbers were Ein, Zwei, Drei or Vier (one to four). In each trial the sentences were aurally presented and a fixation cross was shown in the script. After the sentence, an array of 4 x 3 was presented showing drawings representing the target items, the array had always in the same order and columns 1-3 represented targets 1-3 in the same order as they appeared in the sentence (i.e., call sign, color and number. Participants had to click with the mouse on the picture representing the item they heard in each of the columns before moving on to the next trial. The trials were response-terminated, but there was a response time limit of 10 seconds before moving on to the next trial. In the example trials we ensured that participants understood that they had to click on each of the three columns in all trials, even if they were not sure what item they heard. \n",
    "\n",
    "The sentences were presented two audio manipulation conditions: noise vocoded (NV) or with a background speech-shaped noise (SSN). See the Stimuli section for more details.\n",
    "    \n",
    "   \n",
    "    male and female voices..\n",
    "    The task consisted of two blocks of NV and two blocks of SSN stimuli presented in alternating order. There were four different block orders (without consecutive blocks of the same condition) randomly assign to each participant ..... distributio of voices and levels of difficulty \n",
    "\n",
    "## Stimuli \n",
    "\n",
    "    [Gen_stimuli](https://github.com/Neuroling/SPINCO_SINEEG/blob/65c604a2246d26b94cdd150298f1dd7150bd728f/Gen_stimuli/Gen_speech/TTS_sentenceGenerator.py) of this repository\n",
    "    \n",
    "    \n",
    "## EEG\n",
    "### Signal acquisition \n",
    "The EEG recordings were conducted using the Biosemi Active Two MK2hS-System with a sampling rate of 2048 Hz. We used 64 scalp electrodes positioned according to the 10-20 system. In addition, six external Flat-Type Active electrodes were used: four electrodes for recording the vertical and horizontal electro-oculogram (EOG) and two electrodes were placed at mastoids for off-line reference. The Biosemi system uses two additional electrodes (Common Mode Sense [CMS] and Driven Right Leg [DRL]) creating a feedback loop to replace the conventional ground electrode (see www.biosemi.com/faq/cms&drl.htm for details). The CMS electrode served as online reference. The offset of the electrodes was kept between +20 and -20 µV.\n",
    " \n",
    "###"
   ]
  },
  {
   "cell_type": "markdown",
   "metadata": {},
   "source": []
  },
  {
   "cell_type": "markdown",
   "metadata": {},
   "source": [
    "    "
   ]
  },
  {
   "cell_type": "code",
   "execution_count": null,
   "metadata": {},
   "outputs": [],
   "source": []
  }
 ],
 "metadata": {
  "kernelspec": {
   "display_name": "Python 3 (ipykernel)",
   "language": "python",
   "name": "python3"
  },
  "language_info": {
   "codemirror_mode": {
    "name": "ipython",
    "version": 3
   },
   "file_extension": ".py",
   "mimetype": "text/x-python",
   "name": "python",
   "nbconvert_exporter": "python",
   "pygments_lexer": "ipython3",
   "version": "3.10.9"
  }
 },
 "nbformat": 4,
 "nbformat_minor": 4
}
