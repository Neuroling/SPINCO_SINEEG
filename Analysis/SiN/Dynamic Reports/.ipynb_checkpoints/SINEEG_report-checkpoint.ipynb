{
 "cells": [
  {
   "cell_type": "raw",
   "metadata": {},
   "source": [
    "---\n",
    "title: |-\n",
    "  Data Report: An EEG experiment on\n",
    "   Speech-in-Noise Comprehension\n",
    "subtitle: Pilot EEG study on using a sentence matrix comprehension task with noise-vocoded speech and speech in speech-shaped noise\n",
    "date: last-modified\n",
    "author:\n",
    "  - name: Gorka Fraga-Gonzalez\n",
    "    orcid: 0000-0002-1857-8607\n",
    "    email: gorka.fragagonzalez@uzh.ch\n",
    "    affiliation:\n",
    "      - name: 'Neurolinguistics group, University of Zurich'\n",
    "  - name: Samuel Mueller\n",
    "    email: samuel.mueller@psychologie.uzh.ch\n",
    "    affiliation:\n",
    "      - name: 'Neurolinguistics group, University of Zurich'\n",
    "  - name: Alexis Hervais-Adelman\n",
    "    orcid: 0000-0002-5232-626X\n",
    "    email: alexis.hervais-adelman@psychologie.uzh.ch\n",
    "    affiliation:\n",
    "      - name: 'Neurolinguistics group, University of Zurich'\n",
    "      - name: 'Department of fundamental neurosciences, University of Geneva'\n",
    "bibliography: references.bib\n",
    "format:\n",
    "  html:\n",
    "    toc: true\n",
    "    code-fold: true\n",
    "    code-link: true\n",
    "    code-copy: true\n",
    "    code-tools: true\n",
    "---"
   ]
  },
  {
   "cell_type": "markdown",
   "metadata": {},
   "source": [
    "## Abstract\n",
    "Hearing loss is becoming an increasingly common complaint, not solely due to aging populations, but also as a result of increasing incidence of noise-induced hearing loss in younger individuals @niskar2001estimated @shargorodsky2010change. One of the major consequences  is reduced speech-comprehension ability, especially in acoustically challenging conditions such as in reverberant or noisy environments. Individual differences in (dis)satisfaction with both hearing aids and cochlear implants calls for more investigation on interventions that could enhance speech comprehension abilities by exploiting existing cognitive mechanisms. To this end, this project aims at gaining fundamental knowledge on the neurocognitive basis of speech comprehension in acoustically challenging situations.\n",
    "\n",
    "Our experiment uses electroencephalography (EEG) to investigate patterns of electrophysiological activity associated with better speech in noise comprehension. This pilot study has data from 15 healthy adult participants performing a sentence comprehension task with noise-vocoded speech and speech in speech-shaped noise stimuili. We use a multivariate pattern analysis approach focused on using EEG information preceding stimuli to decode accuracy of performance. \n",
    "\n",
    "This pilot study is aimed at specifying targets and experimental design for subsequent studies focused on potential neurofeedback interventions. \n",
    "\n",
    "## Methods \n",
    "\n",
    "### Participants and procedures \n",
    "We recruited 15 adult participants using a mailing list of the Faculty of Psychology (University of Zurich) and flyers. Inclusion criteria were: age 18-35 years, normmal hearing without hearing aids, normal vision (corrections allowed), German as first language, right-handed. Exclusion criteria were being fuent in more than two languages, having hearing aids or history of hearing impairments or having any psychological or psychiatric condition that may impede adequate task performance (e.g., attentional problems, speech comprehension issues). All participants signed an inform consent form before participation with included a 60 CHF reward for participation. The study was approved by the ethics commision of the canton of Zurich.    \n",
    "    \n",
    "    \n",
    ">>>> xxxx any excluded participants from originaal sample ? \n",
    "\n",
    "Upon arrival to the lab participants were informed about the specific content of the session which consisted of a 4 minutes resting state recording (opened eyes), the main task (with 4 blocks of approximately 15 minuntes duration each) and another 4 minutes resting state recording (eyes opened). Electrode placement and signal check took approximately between 20 and 40 minutes. \n",
    "\n",
    "### Design\n",
    "# Task\n",
    "We used a version of the Coordinate Response Measure (CRM) task used in @brungart2001evaluation. The task consists of a sentence ... \n",
    "\n",
    "\n",
    "### EEG data \n",
    "#### EEG recordings \n",
    "Für die EEG-Messung kam das Biosemi Active Two MK2HS-System mit 64 Elektroden zum Einsatz. Zu Beginn wurde der Kopfumfang der Teilnehmenden gemessen, um die richtige Grösse der Kappe auswählen zu können. Die genaue Positionierung der Kappe erfolgte, indem die Elektrodenposition Cz durch Bestimmung des Schnittpunktes der Verbindungslinie zwischen Nasion und Inion, sowie rechten und linken Ohrspitze gemessen wurden. Im Anschluss daran wurden die Kontaktstellen/ Löcher mit Signalgel aufgefüllt und die 64 Elektroden nach dem 10 – 20 System an den jeweiligen Positionen der Kappe aufgesteckt. Zusätzlich zu den EEG-Elektroden wurden sechs externe Elektroden positioniert. Zwei Elektroden wurden an den Mastoiden angebracht, zwei an den Schläfen und eine oberhalb sowie unterhalb des linken Auges zur Registrierung der Augenbewegungen. Als Referenzelektroden dienten die Elektrodenposition CSM und GND. Die EEG-Signal/Daten wurden mit einer Abtastrate von 2084 Hz und einer Netzwerkfrequenz von 50 Hz über die BioSemi Aufzeichnungssoftware aufgezeichnet. Den Offset der Elektrode wurde versucht zwischen 20 und -20 mV gehalten. \n",
    "\n",
    "#### R \n"
   ]
  },
  {
   "cell_type": "code",
   "execution_count": null,
   "metadata": {},
   "outputs": [],
   "source": []
  }
 ],
 "metadata": {
  "kernelspec": {
   "display_name": "Python [conda env:spyder-env] *",
   "language": "python",
   "name": "conda-env-spyder-env-py"
  },
  "language_info": {
   "codemirror_mode": {
    "name": "ipython",
    "version": 3
   },
   "file_extension": ".py",
   "mimetype": "text/x-python",
   "name": "python",
   "nbconvert_exporter": "python",
   "pygments_lexer": "ipython3",
   "version": "3.10.13"
  }
 },
 "nbformat": 4,
 "nbformat_minor": 4
}
