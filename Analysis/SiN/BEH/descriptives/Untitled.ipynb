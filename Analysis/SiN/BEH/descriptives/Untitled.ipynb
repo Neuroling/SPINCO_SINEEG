{
 "cells": [
  {
   "cell_type": "code",
   "execution_count": null,
   "id": "9d175dc9-364f-4a86-9c27-b6ba0118980e",
   "metadata": {},
   "outputs": [],
   "source": []
  }
 ],
 "metadata": {
  "kernelspec": {
   "display_name": "Python (mne_kernel)",
   "language": "python",
   "name": "mne"
  },
  "language_info": {
   "codemirror_mode": {
    "name": "ipython",
    "version": 3
   },
   "file_extension": ".py",
   "mimetype": "text/x-python",
   "name": "python",
   "nbconvert_exporter": "python",
   "pygments_lexer": "ipython3",
   "version": "3.10.8"
  }
 },
 "nbformat": 4,
 "nbformat_minor": 5
}
